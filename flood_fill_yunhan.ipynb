{
 "cells": [
  {
   "cell_type": "code",
   "execution_count": 9,
   "metadata": {},
   "outputs": [
    {
     "name": "stdout",
     "output_type": "stream",
     "text": [
      "......................\n",
      "......##########......\n",
      "......#~~~~~~~~#......\n",
      "......#~~~~~~~~#......\n",
      "......#~~~~~~~~#####..\n",
      "....###~~~~~~~~~~~~#..\n",
      "....#~~~~~~~~~~~~###..\n",
      "....##############....\n"
     ]
    }
   ],
   "source": [
    "from typing import List\n",
    "\n",
    "board = [\n",
    "    \"......................\",\n",
    "    \"......##########......\",\n",
    "    \"......#........#......\",\n",
    "    \"......#........#......\",\n",
    "    \"......#........#####..\",\n",
    "    \"....###............#..\",\n",
    "    \"....#............###..\",\n",
    "    \"....##############....\",\n",
    "]\n",
    "\n",
    "\n",
    "def flood_fill(input_board: List[str], old: str, new: str, x: int, y: int) -> List[str]:\n",
    "    \"\"\"Returns board with old values replaced with new values\n",
    "    through flood filling starting from the coordinates x, y\n",
    "    Args:\n",
    "        input_board (List[str])\n",
    "        old (str): Value to be replaced\n",
    "        new (str): Value that replaces the old\n",
    "        x (int): X-coordinate of the flood start point\n",
    "        y (int): Y-coordinate of the flood start point\n",
    "    Returns:\n",
    "        List[str]: Modified board\n",
    "    \"\"\"\n",
    "    # Implement your code here.\n",
    "    if input_board[x][y] == new:\n",
    "        return input_board\n",
    "    if input_board[x][y] == old:\n",
    "        input_board[x] = input_board[x][:y]+input_board[x][y].replace(old,new)+input_board[x][y+1:]\n",
    "        flood_fill(input_board = input_board, old = old, new = new, x = x - 1, y = y)\n",
    "        flood_fill(input_board = input_board, old = old, new = new, x = x + 1, y = y)\n",
    "        flood_fill(input_board = input_board, old = old, new = new, x = x, y = y - 1)\n",
    "        flood_fill(input_board = input_board, old = old, new = new, x = x, y = y + 1)\n",
    "    return input_board\n",
    "\n",
    "\n",
    "\n",
    "modified_board = flood_fill(input_board=board, old=\".\", new=\"~\", x=5, y=12)\n",
    "\n",
    "for a in modified_board:\n",
    "    print(a)\n",
    "\n",
    "# Expected output:\n",
    "# ......................\n",
    "# ......##########......\n",
    "# ......#~~~~~~~~#......\n",
    "# ......#~~~~~~~~#......\n",
    "# ......#~~~~~~~~#####..\n",
    "# ....###~~~~~~~~~~~~#..\n",
    "# ....#~~~~~~~~~~~~###..\n",
    "# ....##############...."
   ]
  }
 ],
 "metadata": {
  "kernelspec": {
   "display_name": "Python 3.9.12 ('base')",
   "language": "python",
   "name": "python3"
  },
  "language_info": {
   "codemirror_mode": {
    "name": "ipython",
    "version": 3
   },
   "file_extension": ".py",
   "mimetype": "text/x-python",
   "name": "python",
   "nbconvert_exporter": "python",
   "pygments_lexer": "ipython3",
   "version": "3.9.12"
  },
  "orig_nbformat": 4,
  "vscode": {
   "interpreter": {
    "hash": "40d3a090f54c6569ab1632332b64b2c03c39dcf918b08424e98f38b5ae0af88f"
   }
  }
 },
 "nbformat": 4,
 "nbformat_minor": 2
}
